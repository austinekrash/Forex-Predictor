{
 "cells": [
  {
   "cell_type": "code",
   "execution_count": 35,
   "metadata": {},
   "outputs": [],
   "source": [
    "import sqlite3\n",
    "import pandas as pd"
   ]
  },
  {
   "cell_type": "code",
   "execution_count": 36,
   "metadata": {},
   "outputs": [],
   "source": [
    "def connect_to_sqlite3(dbname='currency.db'):\n",
    "    conn = sqlite3.connect(dbname)\n",
    "    cur = conn.cursor()\n",
    "    return conn, cur\n",
    "\n",
    "def execute_sql_query(query, conn):\n",
    "    cur.execute(query)\n",
    "    conn.commit()"
   ]
  },
  {
   "cell_type": "code",
   "execution_count": 39,
   "metadata": {},
   "outputs": [
    {
     "data": {
      "text/html": [
       "<div>\n",
       "<style scoped>\n",
       "    .dataframe tbody tr th:only-of-type {\n",
       "        vertical-align: middle;\n",
       "    }\n",
       "\n",
       "    .dataframe tbody tr th {\n",
       "        vertical-align: top;\n",
       "    }\n",
       "\n",
       "    .dataframe thead th {\n",
       "        text-align: right;\n",
       "    }\n",
       "</style>\n",
       "<table border=\"1\" class=\"dataframe\">\n",
       "  <thead>\n",
       "    <tr style=\"text-align: right;\">\n",
       "      <th></th>\n",
       "      <th>Date</th>\n",
       "      <th>news_headline</th>\n",
       "      <th>news_article</th>\n",
       "      <th>Price</th>\n",
       "      <th>trend</th>\n",
       "      <th>rise_or_drop</th>\n",
       "    </tr>\n",
       "  </thead>\n",
       "  <tbody>\n",
       "    <tr>\n",
       "      <th>0</th>\n",
       "      <td>2020-03-06</td>\n",
       "      <td>DuckDuckGo releases list web trackers that gat...</td>\n",
       "      <td>Privacy-focused browser DuckDuckGo released to...</td>\n",
       "      <td>-0.0001</td>\n",
       "      <td>0</td>\n",
       "      <td>drop</td>\n",
       "    </tr>\n",
       "    <tr>\n",
       "      <th>1</th>\n",
       "      <td>2020-03-06</td>\n",
       "      <td>I fooled reporters by giving them wrong addres...</td>\n",
       "      <td>Kajol recently revealed that she fooled the re...</td>\n",
       "      <td>-0.0001</td>\n",
       "      <td>0</td>\n",
       "      <td>drop</td>\n",
       "    </tr>\n",
       "    <tr>\n",
       "      <th>2</th>\n",
       "      <td>2020-03-06</td>\n",
       "      <td>As kid, I bought anything that Shah Rukh endor...</td>\n",
       "      <td>Actor Siddhant Chaturvedi has said in his chil...</td>\n",
       "      <td>-0.0001</td>\n",
       "      <td>0</td>\n",
       "      <td>drop</td>\n",
       "    </tr>\n",
       "    <tr>\n",
       "      <th>3</th>\n",
       "      <td>2020-03-06</td>\n",
       "      <td>IIFA postpones award ceremony in Madhya Prades...</td>\n",
       "      <td>International Indian Film Academy (IIFA) has p...</td>\n",
       "      <td>-0.0001</td>\n",
       "      <td>0</td>\n",
       "      <td>drop</td>\n",
       "    </tr>\n",
       "    <tr>\n",
       "      <th>4</th>\n",
       "      <td>2020-03-06</td>\n",
       "      <td>My Grammys look was departure from 'safe': Pri...</td>\n",
       "      <td>Priyanka Chopra, while talking about the outfi...</td>\n",
       "      <td>-0.0001</td>\n",
       "      <td>0</td>\n",
       "      <td>drop</td>\n",
       "    </tr>\n",
       "  </tbody>\n",
       "</table>\n",
       "</div>"
      ],
      "text/plain": [
       "         Date                                      news_headline  \\\n",
       "0  2020-03-06  DuckDuckGo releases list web trackers that gat...   \n",
       "1  2020-03-06  I fooled reporters by giving them wrong addres...   \n",
       "2  2020-03-06  As kid, I bought anything that Shah Rukh endor...   \n",
       "3  2020-03-06  IIFA postpones award ceremony in Madhya Prades...   \n",
       "4  2020-03-06  My Grammys look was departure from 'safe': Pri...   \n",
       "\n",
       "                                        news_article   Price  trend  \\\n",
       "0  Privacy-focused browser DuckDuckGo released to... -0.0001      0   \n",
       "1  Kajol recently revealed that she fooled the re... -0.0001      0   \n",
       "2  Actor Siddhant Chaturvedi has said in his chil... -0.0001      0   \n",
       "3  International Indian Film Academy (IIFA) has p... -0.0001      0   \n",
       "4  Priyanka Chopra, while talking about the outfi... -0.0001      0   \n",
       "\n",
       "  rise_or_drop  \n",
       "0         drop  \n",
       "1         drop  \n",
       "2         drop  \n",
       "3         drop  \n",
       "4         drop  "
      ]
     },
     "execution_count": 39,
     "metadata": {},
     "output_type": "execute_result"
    }
   ],
   "source": [
    "conn, cur = connect_to_sqlite3(dbname='currency.db')\n",
    "df = pd.read_sql(\"\"\"SELECT * FROM EURUSD\"\"\", conn)\n",
    "df.head()"
   ]
  },
  {
   "cell_type": "code",
   "execution_count": null,
   "metadata": {},
   "outputs": [],
   "source": []
  }
 ],
 "metadata": {
  "kernelspec": {
   "display_name": "nlp",
   "language": "python",
   "name": "nlp"
  },
  "language_info": {
   "codemirror_mode": {
    "name": "ipython",
    "version": 3
   },
   "file_extension": ".py",
   "mimetype": "text/x-python",
   "name": "python",
   "nbconvert_exporter": "python",
   "pygments_lexer": "ipython3",
   "version": "3.7.3"
  }
 },
 "nbformat": 4,
 "nbformat_minor": 4
}
